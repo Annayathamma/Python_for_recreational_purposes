{
 "cells": [
  {
   "cell_type": "code",
   "execution_count": 29,
   "id": "250b2336",
   "metadata": {},
   "outputs": [],
   "source": [
    "import requests\n",
    "import pandas as pd\n",
    "from bs4 import BeautifulSoup\n",
    "from urllib.request import urlopen\n",
    "from urllib.request import urlretrieve"
   ]
  },
  {
   "cell_type": "code",
   "execution_count": 38,
   "id": "ee98223d",
   "metadata": {
    "scrolled": true
   },
   "outputs": [],
   "source": [
    "htmldata = urlopen('https://www.jecinci.com/')\n",
    "headers = {'User-Agent': 'Mozilla/5.0 (Macintosh; Intel Mac OS X 10_10_1) AppleWebKit/537.36 (KHTML, like Gecko) Chrome/39.0.2171.95 Safari/537.36'}\n",
    "soup = BeautifulSoup(htmldata, 'html.parser')\n",
    "#table = soup.find('div',{'class':'carousel-inner'})\n",
    "images = soup.find_all('img')\n",
    "\n",
    "#print(images)\n",
    "images_soup_list = []\n",
    "for item in images:\n",
    "    #print(item['src'])\n",
    "    images_soup_list.append(item['src'])\n",
    "#print(images_soup_list)\n",
    "\n",
    "url_list = []\n",
    "for i in images_soup_list:\n",
    "    i = 'https://www.jecinci.com/'+str(i)\n",
    "    url_list.append(i)\n",
    "#print(url_list)\n",
    "url = 'https://www.jecinci.com/'\n",
    "for u in url_list:\n",
    "    urlretrieve(u)"
   ]
  },
  {
   "cell_type": "code",
   "execution_count": null,
   "id": "38c5e6af",
   "metadata": {},
   "outputs": [],
   "source": []
  }
 ],
 "metadata": {
  "kernelspec": {
   "display_name": "Python 3 (ipykernel)",
   "language": "python",
   "name": "python3"
  },
  "language_info": {
   "codemirror_mode": {
    "name": "ipython",
    "version": 3
   },
   "file_extension": ".py",
   "mimetype": "text/x-python",
   "name": "python",
   "nbconvert_exporter": "python",
   "pygments_lexer": "ipython3",
   "version": "3.9.7"
  }
 },
 "nbformat": 4,
 "nbformat_minor": 5
}
