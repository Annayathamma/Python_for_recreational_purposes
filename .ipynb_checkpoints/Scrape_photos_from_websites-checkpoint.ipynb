{
 "cells": [
  {
   "cell_type": "code",
   "execution_count": 1,
   "id": "4b651664",
   "metadata": {},
   "outputs": [],
   "source": [
    "import requests\n",
    "import pandas as pd\n",
    "from bs4 import BeautifulSoup\n",
    "from urllib.request import urlopen\n",
    "from urllib.request import urlretrieve"
   ]
  },
  {
   "cell_type": "code",
   "execution_count": 25,
   "id": "0db6c276",
   "metadata": {},
   "outputs": [
    {
     "name": "stdout",
     "output_type": "stream",
     "text": [
      "assets/images/jecinci-colorizations-logo-301x128.jpg\n",
      "assets/images/cologo-ba-2000x1265-800x506.jpg\n",
      "assets/images/unpacking-mona-lisa-at-the-end-of-world-war-ii-1945-by-pierre-jahan-colorized-by-jecinci-2000x1039-800x415.jpg\n",
      "assets/images/goodyear-illuminated-tires-1961-colorized-by-jecinci-2000x1272-800x508.jpg\n",
      "assets/images/diana-ba-2000x1353-800x541.jpg\n",
      "assets/images/carter-cologo-ba-2000x1363-800x545.jpg\n",
      "assets/images/frank-eaton-pistol-pete-ba-2000x1248-800x499.jpg\n",
      "assets/images/ivan-pavlov-cologo-ba-2000x1408-800x563.jpg\n",
      "assets/images/bobby-charlton-1958-colorized-by-jecinci-mini-2000x1281-800x512.jpg\n",
      "assets/images/duncan-edwards-manchester-united-colorized-by-jecinci-2000x656-800x262.jpg\n",
      "assets/images/audrey-hepburn-colorized-by-jecinci-2000x1341-800x536.jpg\n",
      "assets/images/benny-hill-alfred-hawthorne-hill-colorized-by-jecinci-2000x1000-800x400.jpg\n",
      "assets/images/che-guevara-colorized-by-jecinci-2000x1290-800x516.jpg\n",
      "assets/images/cologo-ba-2000x1317-800x526.jpg\n",
      "assets/images/cologo-ba-2000x1261-800x504.jpg\n",
      "assets/images/cologo-ba-2000x1041-800x416.jpg\n",
      "assets/images/amelia-mary-earhart-colorized-by-jecinci-2000x833-800x333.jpg\n",
      "assets/images/rasputin-ba-2000x1512-800x604.jpg\n",
      "assets/images/cologo-sub-ba-2000x780-800x312.jpg\n",
      "assets/images/cologo2-sub-ba-2000x1076-800x430.jpg\n",
      "assets/images/dock-stevedore-holding-giant-lobster-claws-fulton-fish-market-new-york-1943-photo-by-gordon-parks-loc-2000x1061-800x424.jpg\n",
      "assets/images/man-at-a-paris-bistro-1927-colorized-by-jecinci-2000x1153-800x461.jpg\n",
      "assets/images/enrico-caruso-with-a-customized-victrola-brand-phonograph-given-to-him-as-a-wedding-gift-by-the-victor-company-1918-colorized-by-jecinci-2000x1394-800x557.jpg\n",
      "assets/images/cologo-bas-2000x625-800x250.jpg\n",
      "assets/images/cologo-ba-2000x1265.jpg\n",
      "assets/images/unpacking-mona-lisa-at-the-end-of-world-war-ii-1945-by-pierre-jahan-colorized-by-jecinci-2000x1039.jpg\n",
      "assets/images/goodyear-illuminated-tires-1961-colorized-by-jecinci-2000x1272.jpg\n",
      "assets/images/diana-ba-2000x1353.jpg\n",
      "assets/images/carter-cologo-ba-2000x1363.jpg\n",
      "assets/images/frank-eaton-pistol-pete-ba-2000x1248.jpg\n",
      "assets/images/ivan-pavlov-cologo-ba-2000x1408.jpg\n",
      "assets/images/bobby-charlton-1958-colorized-by-jecinci-mini-2000x1281.jpg\n",
      "assets/images/duncan-edwards-manchester-united-colorized-by-jecinci-2000x656.jpg\n",
      "assets/images/audrey-hepburn-colorized-by-jecinci-2000x1341.jpg\n",
      "assets/images/benny-hill-alfred-hawthorne-hill-colorized-by-jecinci-2000x1000.jpg\n",
      "assets/images/che-guevara-colorized-by-jecinci-2000x1290.jpg\n",
      "assets/images/cologo-ba-2000x1317.jpg\n",
      "assets/images/cologo-ba-2000x1261.jpg\n",
      "assets/images/cologo-ba-2000x1041.jpg\n",
      "assets/images/amelia-mary-earhart-colorized-by-jecinci-2000x833.jpg\n",
      "assets/images/rasputin-ba-2000x1512.jpg\n",
      "assets/images/cologo-sub-ba-2000x780.jpg\n",
      "assets/images/cologo2-sub-ba-2000x1076.jpg\n",
      "assets/images/dock-stevedore-holding-giant-lobster-claws-fulton-fish-market-new-york-1943-photo-by-gordon-parks-loc-2000x1061.jpg\n",
      "assets/images/man-at-a-paris-bistro-1927-colorized-by-jecinci-2000x1153.jpg\n",
      "assets/images/enrico-caruso-with-a-customized-victrola-brand-phonograph-given-to-him-as-a-wedding-gift-by-the-victor-company-1918-colorized-by-jecinci-2000x1394.jpg\n",
      "assets/images/cologo-bas-2000x625.jpg\n",
      "['https://www.jecinci.com/assets/images/jecinci-colorizations-logo-301x128.jpg', 'https://www.jecinci.com/assets/images/cologo-ba-2000x1265-800x506.jpg', 'https://www.jecinci.com/assets/images/unpacking-mona-lisa-at-the-end-of-world-war-ii-1945-by-pierre-jahan-colorized-by-jecinci-2000x1039-800x415.jpg', 'https://www.jecinci.com/assets/images/goodyear-illuminated-tires-1961-colorized-by-jecinci-2000x1272-800x508.jpg', 'https://www.jecinci.com/assets/images/diana-ba-2000x1353-800x541.jpg', 'https://www.jecinci.com/assets/images/carter-cologo-ba-2000x1363-800x545.jpg', 'https://www.jecinci.com/assets/images/frank-eaton-pistol-pete-ba-2000x1248-800x499.jpg', 'https://www.jecinci.com/assets/images/ivan-pavlov-cologo-ba-2000x1408-800x563.jpg', 'https://www.jecinci.com/assets/images/bobby-charlton-1958-colorized-by-jecinci-mini-2000x1281-800x512.jpg', 'https://www.jecinci.com/assets/images/duncan-edwards-manchester-united-colorized-by-jecinci-2000x656-800x262.jpg', 'https://www.jecinci.com/assets/images/audrey-hepburn-colorized-by-jecinci-2000x1341-800x536.jpg', 'https://www.jecinci.com/assets/images/benny-hill-alfred-hawthorne-hill-colorized-by-jecinci-2000x1000-800x400.jpg', 'https://www.jecinci.com/assets/images/che-guevara-colorized-by-jecinci-2000x1290-800x516.jpg', 'https://www.jecinci.com/assets/images/cologo-ba-2000x1317-800x526.jpg', 'https://www.jecinci.com/assets/images/cologo-ba-2000x1261-800x504.jpg', 'https://www.jecinci.com/assets/images/cologo-ba-2000x1041-800x416.jpg', 'https://www.jecinci.com/assets/images/amelia-mary-earhart-colorized-by-jecinci-2000x833-800x333.jpg', 'https://www.jecinci.com/assets/images/rasputin-ba-2000x1512-800x604.jpg', 'https://www.jecinci.com/assets/images/cologo-sub-ba-2000x780-800x312.jpg', 'https://www.jecinci.com/assets/images/cologo2-sub-ba-2000x1076-800x430.jpg', 'https://www.jecinci.com/assets/images/dock-stevedore-holding-giant-lobster-claws-fulton-fish-market-new-york-1943-photo-by-gordon-parks-loc-2000x1061-800x424.jpg', 'https://www.jecinci.com/assets/images/man-at-a-paris-bistro-1927-colorized-by-jecinci-2000x1153-800x461.jpg', 'https://www.jecinci.com/assets/images/enrico-caruso-with-a-customized-victrola-brand-phonograph-given-to-him-as-a-wedding-gift-by-the-victor-company-1918-colorized-by-jecinci-2000x1394-800x557.jpg', 'https://www.jecinci.com/assets/images/cologo-bas-2000x625-800x250.jpg', 'https://www.jecinci.com/assets/images/cologo-ba-2000x1265.jpg', 'https://www.jecinci.com/assets/images/unpacking-mona-lisa-at-the-end-of-world-war-ii-1945-by-pierre-jahan-colorized-by-jecinci-2000x1039.jpg', 'https://www.jecinci.com/assets/images/goodyear-illuminated-tires-1961-colorized-by-jecinci-2000x1272.jpg', 'https://www.jecinci.com/assets/images/diana-ba-2000x1353.jpg', 'https://www.jecinci.com/assets/images/carter-cologo-ba-2000x1363.jpg', 'https://www.jecinci.com/assets/images/frank-eaton-pistol-pete-ba-2000x1248.jpg', 'https://www.jecinci.com/assets/images/ivan-pavlov-cologo-ba-2000x1408.jpg', 'https://www.jecinci.com/assets/images/bobby-charlton-1958-colorized-by-jecinci-mini-2000x1281.jpg', 'https://www.jecinci.com/assets/images/duncan-edwards-manchester-united-colorized-by-jecinci-2000x656.jpg', 'https://www.jecinci.com/assets/images/audrey-hepburn-colorized-by-jecinci-2000x1341.jpg', 'https://www.jecinci.com/assets/images/benny-hill-alfred-hawthorne-hill-colorized-by-jecinci-2000x1000.jpg', 'https://www.jecinci.com/assets/images/che-guevara-colorized-by-jecinci-2000x1290.jpg', 'https://www.jecinci.com/assets/images/cologo-ba-2000x1317.jpg', 'https://www.jecinci.com/assets/images/cologo-ba-2000x1261.jpg', 'https://www.jecinci.com/assets/images/cologo-ba-2000x1041.jpg', 'https://www.jecinci.com/assets/images/amelia-mary-earhart-colorized-by-jecinci-2000x833.jpg', 'https://www.jecinci.com/assets/images/rasputin-ba-2000x1512.jpg', 'https://www.jecinci.com/assets/images/cologo-sub-ba-2000x780.jpg', 'https://www.jecinci.com/assets/images/cologo2-sub-ba-2000x1076.jpg', 'https://www.jecinci.com/assets/images/dock-stevedore-holding-giant-lobster-claws-fulton-fish-market-new-york-1943-photo-by-gordon-parks-loc-2000x1061.jpg', 'https://www.jecinci.com/assets/images/man-at-a-paris-bistro-1927-colorized-by-jecinci-2000x1153.jpg', 'https://www.jecinci.com/assets/images/enrico-caruso-with-a-customized-victrola-brand-phonograph-given-to-him-as-a-wedding-gift-by-the-victor-company-1918-colorized-by-jecinci-2000x1394.jpg', 'https://www.jecinci.com/assets/images/cologo-bas-2000x625.jpg']\n"
     ]
    }
   ],
   "source": [
    "htmldata = urlopen('https://www.jecinci.com/')\n",
    "soup = BeautifulSoup(htmldata, 'html.parser')\n",
    "#table = soup.find('div',{'class':'carousel-inner'})\n",
    "images = soup.find_all('img')\n",
    "#print(images)\n",
    "images_soup_list = []\n",
    "for item in images:\n",
    "    #print(item)\n",
    "    #print(item['src'])\n",
    "    images_soup_list.append(item['src'])\n",
    "#print(images_soup_list)\n",
    "url_list = []\n",
    "for i in images_soup_list:\n",
    "    print(i)\n",
    "    i = 'https://www.jecinci.com/'+str(i)\n",
    "    url_list.append(i)\n",
    "print(url_list)\n",
    "    "
   ]
  },
  {
   "cell_type": "code",
   "execution_count": null,
   "id": "e38a455d",
   "metadata": {},
   "outputs": [],
   "source": []
  }
 ],
 "metadata": {
  "kernelspec": {
   "display_name": "Python 3 (ipykernel)",
   "language": "python",
   "name": "python3"
  },
  "language_info": {
   "codemirror_mode": {
    "name": "ipython",
    "version": 3
   },
   "file_extension": ".py",
   "mimetype": "text/x-python",
   "name": "python",
   "nbconvert_exporter": "python",
   "pygments_lexer": "ipython3",
   "version": "3.9.7"
  }
 },
 "nbformat": 4,
 "nbformat_minor": 5
}
